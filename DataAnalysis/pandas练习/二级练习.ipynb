{
 "cells": [
  {
   "cell_type": "code",
   "execution_count": 1,
   "id": "fa0279bb",
   "metadata": {},
   "outputs": [
    {
     "name": "stdout",
     "output_type": "stream",
     "text": [
      "53,274,89,787,417,272,110,858,922,895,"
     ]
    }
   ],
   "source": [
    "# 以123为随机种子，随机生成10个介于1(含)到999(含)之间的随机数，\n",
    "# 每个随机数后面跟随一个逗号进行分隔，屏幕输出这10个随机数\n",
    "import random\n",
    "sed = 123\n",
    "random.seed(123)\n",
    "for i in range(10):\n",
    "    print(random.randint(1,999), end=\",\")"
   ]
  },
  {
   "cell_type": "code",
   "execution_count": 2,
   "id": "4f4dd1eb",
   "metadata": {},
   "outputs": [
    {
     "name": "stdout",
     "output_type": "stream",
     "text": [
      "Looking in indexes: https://pypi.tuna.tsinghua.edu.cn/simple\n",
      "Collecting jieba\n",
      "  Downloading https://pypi.tuna.tsinghua.edu.cn/packages/c6/cb/18eeb235f833b726522d7ebed54f2278ce28ba9438e3135ab0278d9792a2/jieba-0.42.1.tar.gz (19.2 MB)\n",
      "Building wheels for collected packages: jieba\n",
      "  Building wheel for jieba (setup.py): started\n",
      "  Building wheel for jieba (setup.py): finished with status 'done'\n",
      "  Created wheel for jieba: filename=jieba-0.42.1-py3-none-any.whl size=19314476 sha256=2f973b53a09385f02fc6ed795d96677db2ce76486629065409f69b02692edf47\n",
      "  Stored in directory: c:\\users\\asus\\appdata\\local\\pip\\cache\\wheels\\1a\\76\\68\\b6d79c4db704bb18d54f6a73ab551185f4711f9730c0c15d97\n",
      "Successfully built jieba\n",
      "Installing collected packages: jieba\n",
      "Successfully installed jieba-0.42.1\n"
     ]
    }
   ],
   "source": [
    "!pip install jieba"
   ]
  },
  {
   "cell_type": "code",
   "execution_count": 16,
   "id": "176a5dc0",
   "metadata": {},
   "outputs": [
    {
     "name": "stdout",
     "output_type": "stream",
     "text": [
      "诺基亚\n"
     ]
    }
   ],
   "source": [
    "# 随机选择手机品牌列表brandlist = [\"华为\"，\"苹果\", \"OPPO\",\"诺基亚\",\"小米\"]其中一个品牌进行屏幕输出\n",
    "import random\n",
    "brandlist = [\"华为\",\"苹果\",\"OPPO\",\"诺基亚\",\"小米\"]\n",
    "random.seed(0)\n",
    "i = random.randint(0, 4)\n",
    "print(brandlist[i])"
   ]
  },
  {
   "cell_type": "code",
   "execution_count": 17,
   "id": "fb39a221",
   "metadata": {},
   "outputs": [
    {
     "name": "stdout",
     "output_type": "stream",
     "text": [
      "请输入一个字符串ldkfhaskdhf\n",
      "fhdksahfkdl 11\n"
     ]
    }
   ],
   "source": [
    "# 获取用户输入的一个字符串，将字符串逆序输出，同时紧接着输出该字符串所包含的字符的个数\n",
    "s = input(\"请输入一个字符串\")\n",
    "s = s[::-1]\n",
    "print(s, end=\"\")\n",
    "print(len(s))"
   ]
  },
  {
   "cell_type": "code",
   "execution_count": 1,
   "id": "bd4e525b",
   "metadata": {},
   "outputs": [],
   "source": [
    "# 使用turtle库的turtle.fd()函数和turtle.left()函数绘制一个边长为200像素的正方形及\n",
    "# 一个紧挨四个顶点的圆形\n",
    "import turtle\n",
    "turtle.pensize(2)\n",
    "for i in range(0,4):\n",
    "    turtle.fd(200)\n",
    "    turtle.left(90)\n",
    "turtle.left(-45)\n",
    "turtle.circle(100*pow(2,0.5))"
   ]
  },
  {
   "cell_type": "code",
   "execution_count": 2,
   "id": "e1e4ce50",
   "metadata": {},
   "outputs": [
    {
     "name": "stdout",
     "output_type": "stream",
     "text": [
      "['老师', '爱', '我']\n",
      "老师爱我"
     ]
    }
   ],
   "source": [
    "import jieba\n",
    "txt = \"我爱老师\"\n",
    "ls = jieba.lcut(txt)\n",
    "print(ls[::-1])\n",
    "for i in ls[::-1]:\n",
    "    print(i, end=\"\")"
   ]
  },
  {
   "cell_type": "code",
   "execution_count": 6,
   "id": "04502047",
   "metadata": {},
   "outputs": [
    {
     "name": "stdout",
     "output_type": "stream",
     "text": [
      "请输入正整数:222222\n",
      "@@@@@@@@@@@@@@@@@@@@@222222.00\n"
     ]
    }
   ],
   "source": [
    "n = eval(input(\"请输入正整数:\"))\n",
    "print(\"{:@>30}\".format(n))"
   ]
  },
  {
   "cell_type": "code",
   "execution_count": 7,
   "id": "7042c159",
   "metadata": {},
   "outputs": [
    {
     "name": "stdout",
     "output_type": "stream",
     "text": [
      "[4,5,2]\n",
      "75\n"
     ]
    }
   ],
   "source": [
    "a=[11,3,8]\n",
    "b=eval(input())\n",
    "s = 0\n",
    "for i in range(len(a)):\n",
    "    s += a[i]*b[i]\n",
    "print(s)"
   ]
  },
  {
   "cell_type": "code",
   "execution_count": 9,
   "id": "5ee83b1f",
   "metadata": {},
   "outputs": [
    {
     "name": "stdout",
     "output_type": "stream",
     "text": [
      "4 21 41 41 38 "
     ]
    }
   ],
   "source": [
    "import random\n",
    "random.seed(255)\n",
    "for i in range(5):\n",
    "    print(random.randint(1,50), end=\" \")"
   ]
  },
  {
   "cell_type": "code",
   "execution_count": 15,
   "id": "3108a594",
   "metadata": {},
   "outputs": [
    {
     "name": "stdout",
     "output_type": "stream",
     "text": [
      "请输入一个数字：1\n",
      "输出大写字母：A\n"
     ]
    }
   ],
   "source": [
    "s = eval(input(\"请输入一个数字：\"))\n",
    "ls = [0]\n",
    "for i in range(65,91):\n",
    "    ls.append(chr(i))\n",
    "print(\"输出大写字母：{}\".format(ls[s]))"
   ]
  },
  {
   "cell_type": "code",
   "execution_count": 20,
   "id": "43d2d4b9",
   "metadata": {},
   "outputs": [
    {
     "name": "stdout",
     "output_type": "stream",
     "text": [
      "请输入一个十进制数：19\n",
      "转换成二进制数是：10011\n"
     ]
    }
   ],
   "source": [
    "s = input(\"请输入一个十进制数：\")\n",
    "num = int(s)\n",
    "print(\"转换成二进制数是：{:b}\".format(num))"
   ]
  },
  {
   "cell_type": "code",
   "execution_count": 22,
   "id": "3de26328",
   "metadata": {},
   "outputs": [
    {
     "name": "stdout",
     "output_type": "stream",
     "text": [
      "请输入一个中文字符串，包含标点符号：问君能有几多愁?恰似一江春水向东流\n",
      "中文词语数：8\n"
     ]
    }
   ],
   "source": [
    "# 问君能有几多愁?恰似一江春水向东流\n",
    "import jieba\n",
    "s = input(\"请输入一个中文字符串，包含标点符号：\")\n",
    "m = jieba.lcut(s)\n",
    "print(\"中文词语数：{}\".format(len(m)))"
   ]
  },
  {
   "cell_type": "code",
   "execution_count": 24,
   "id": "bbc17eef",
   "metadata": {},
   "outputs": [
    {
     "name": "stdout",
     "output_type": "stream",
     "text": [
      "[2, 3, 5, 6, 8]\n"
     ]
    }
   ],
   "source": [
    "lis = [2,8,3,6,5,3,8]\n",
    "new_lis = list(set(lis))\n",
    "print(new_lis)"
   ]
  },
  {
   "cell_type": "code",
   "execution_count": 26,
   "id": "29187518",
   "metadata": {},
   "outputs": [
    {
     "name": "stdout",
     "output_type": "stream",
     "text": [
      "输入水果：猕猴\n",
      "猕猴不在列表lis中\n"
     ]
    }
   ],
   "source": [
    "#输入一个水果名，判断它是否在列表lis中，并输出判断结果。\n",
    "#例如输入：猕猴桃 输出：猕猴桃在列表lis中\n",
    "fruit = input(\"输入水果：\")\n",
    "lis = ['苹果','哈密瓜','橘子','猕猴桃','杨梅','西瓜']\n",
    "if fruit in lis:\n",
    "    print(\"{}在列表lis中\".format(fruit))\n",
    "else:\n",
    "    print(\"{}不在列表lis中\".format(fruit))"
   ]
  },
  {
   "cell_type": "code",
   "execution_count": 28,
   "id": "a01057f4",
   "metadata": {},
   "outputs": [
    {
     "name": "stdout",
     "output_type": "stream",
     "text": [
      "输入字符串：goodstudy\n",
      "ydutsdoog\n"
     ]
    }
   ],
   "source": [
    "#编写一个函数，使之能够实现字符串的反转。将\"goodstudy\"3#\n",
    "#输入到函数中，运行并输出结果\n",
    "def str_change(str):\n",
    "    return str[::-1]\n",
    "str = input(\"输入字符串：\")\n",
    "print(str_change(str))"
   ]
  },
  {
   "cell_type": "code",
   "execution_count": 30,
   "id": "f28d076c",
   "metadata": {},
   "outputs": [
    {
     "name": "stdout",
     "output_type": "stream",
     "text": [
      "请输入信息：a\n",
      "请输入信息：v\n",
      "请输入信息：Y\n"
     ]
    }
   ],
   "source": [
    "#循环获得用户输入，直至用户输入Y或者y字符推出程序。\n",
    "while True:\n",
    "    s = input(\"请输入信息：\")\n",
    "    if s == 'Y' or s =='y':\n",
    "        break"
   ]
  },
  {
   "cell_type": "code",
   "execution_count": 34,
   "id": "e2e0eb21",
   "metadata": {},
   "outputs": [
    {
     "name": "stdout",
     "output_type": "stream",
     "text": [
      "请输入年份：2021\n",
      "                                  2021\n",
      "\n",
      "      January                   February                   March\n",
      "Mo Tu We Th Fr Sa Su      Mo Tu We Th Fr Sa Su      Mo Tu We Th Fr Sa Su\n",
      "             1  2  3       1  2  3  4  5  6  7       1  2  3  4  5  6  7\n",
      " 4  5  6  7  8  9 10       8  9 10 11 12 13 14       8  9 10 11 12 13 14\n",
      "11 12 13 14 15 16 17      15 16 17 18 19 20 21      15 16 17 18 19 20 21\n",
      "18 19 20 21 22 23 24      22 23 24 25 26 27 28      22 23 24 25 26 27 28\n",
      "25 26 27 28 29 30 31                                29 30 31\n",
      "\n",
      "       April                      May                       June\n",
      "Mo Tu We Th Fr Sa Su      Mo Tu We Th Fr Sa Su      Mo Tu We Th Fr Sa Su\n",
      "          1  2  3  4                      1  2          1  2  3  4  5  6\n",
      " 5  6  7  8  9 10 11       3  4  5  6  7  8  9       7  8  9 10 11 12 13\n",
      "12 13 14 15 16 17 18      10 11 12 13 14 15 16      14 15 16 17 18 19 20\n",
      "19 20 21 22 23 24 25      17 18 19 20 21 22 23      21 22 23 24 25 26 27\n",
      "26 27 28 29 30            24 25 26 27 28 29 30      28 29 30\n",
      "                          31\n",
      "\n",
      "        July                     August                  September\n",
      "Mo Tu We Th Fr Sa Su      Mo Tu We Th Fr Sa Su      Mo Tu We Th Fr Sa Su\n",
      "          1  2  3  4                         1             1  2  3  4  5\n",
      " 5  6  7  8  9 10 11       2  3  4  5  6  7  8       6  7  8  9 10 11 12\n",
      "12 13 14 15 16 17 18       9 10 11 12 13 14 15      13 14 15 16 17 18 19\n",
      "19 20 21 22 23 24 25      16 17 18 19 20 21 22      20 21 22 23 24 25 26\n",
      "26 27 28 29 30 31         23 24 25 26 27 28 29      27 28 29 30\n",
      "                          30 31\n",
      "\n",
      "      October                   November                  December\n",
      "Mo Tu We Th Fr Sa Su      Mo Tu We Th Fr Sa Su      Mo Tu We Th Fr Sa Su\n",
      "             1  2  3       1  2  3  4  5  6  7             1  2  3  4  5\n",
      " 4  5  6  7  8  9 10       8  9 10 11 12 13 14       6  7  8  9 10 11 12\n",
      "11 12 13 14 15 16 17      15 16 17 18 19 20 21      13 14 15 16 17 18 19\n",
      "18 19 20 21 22 23 24      22 23 24 25 26 27 28      20 21 22 23 24 25 26\n",
      "25 26 27 28 29 30 31      29 30                     27 28 29 30 31\n",
      "\n"
     ]
    }
   ],
   "source": [
    "#使用calendar模块，从键盘输入年份，输出，当前的日历\n",
    "import calendar\n",
    "year = int(input(\"请输入年份：\"))\n",
    "table = calendar.calendar(year)\n",
    "print(table)"
   ]
  },
  {
   "cell_type": "code",
   "execution_count": 35,
   "id": "4a228de5",
   "metadata": {},
   "outputs": [
    {
     "name": "stdout",
     "output_type": "stream",
     "text": [
      "请输入绕口令：八百标兵奔北坡，炮兵并排北边跑，炮兵怕把标兵碰，标兵怕碰炮兵炮。八了百了标了兵了奔了北了坡，把了标了兵了碰,标了兵了怕了碰了炮了兵了炮。\n",
      "八百标将奔北坡，炮将并排北边跑，炮将怕把标将碰，标将怕碰炮将炮。八了百了标了将了奔了北了坡，把了标了将了碰,标了将了怕了碰了炮了将了炮。\n"
     ]
    }
   ],
   "source": [
    "#八百标兵奔北坡，炮兵并排北边跑，炮兵怕把标兵碰，标兵怕碰炮兵炮。八了百了标了兵了奔了北了坡，\n",
    "#把了标了兵了碰,标了兵了怕了碰了炮了兵了炮。\n",
    "s = input(\"请输入绕口令：\")\n",
    "print(s.replace(\"兵\",\"将\"))"
   ]
  },
  {
   "cell_type": "code",
   "execution_count": 39,
   "id": "a024dd2d",
   "metadata": {},
   "outputs": [
    {
     "name": "stdout",
     "output_type": "stream",
     "text": [
      "A Grain of Sand\n",
      "And eternity in an hour.\n",
      "And a heaven in a wild flower,\n",
      "To see a world in a grain of sand,\n",
      "Hold infinity in the palm of your hand,\n"
     ]
    }
   ],
   "source": [
    "f = open(\"opem.txt\", 'r')\n",
    "result = []\n",
    "for line in f.readlines():\n",
    "    line = line.strip()\n",
    "    if len(line) != 0 and line[0] != \"#\":\n",
    "        result.append(line)\n",
    "result.sort(key=len)\n",
    "for line in result:\n",
    "    print(line)\n",
    "f.close()"
   ]
  },
  {
   "cell_type": "code",
   "execution_count": 44,
   "id": "9dcbbea1",
   "metadata": {},
   "outputs": [
    {
     "name": "stdout",
     "output_type": "stream",
     "text": [
      ":3d\n",
      "\n",
      ":3d\n",
      ":3d\n",
      "\n",
      ":3d\n",
      ":3d\n",
      ":3d\n",
      "\n",
      ":3d\n",
      ":3d\n",
      ":3d\n",
      ":3d\n",
      "\n",
      ":3d\n",
      ":3d\n",
      ":3d\n",
      ":3d\n",
      ":3d\n",
      "\n",
      ":3d\n",
      ":3d\n",
      ":3d\n",
      ":3d\n",
      ":3d\n",
      ":3d\n",
      "\n",
      ":3d\n",
      ":3d\n",
      ":3d\n",
      ":3d\n",
      ":3d\n",
      ":3d\n",
      ":3d\n",
      "\n",
      ":3d\n",
      ":3d\n",
      ":3d\n",
      ":3d\n",
      ":3d\n",
      ":3d\n",
      ":3d\n",
      ":3d\n",
      "\n"
     ]
    }
   ],
   "source": [
    "a = []\n",
    "for i in range(8):\n",
    "    a.append([])\n",
    "    for j in range(8):\n",
    "        a[i].append(0)\n",
    "for i in range(8):\n",
    "    a[i][0] = 1\n",
    "    a[i][i] = 1 #填空点，最后一位是1\n",
    "for i in range(2,8):\n",
    "    for j in range(1,i):\n",
    "        a[i][j] = a[i-1][j-1] + a[i-1][j]\n",
    "for i in range(8):\n",
    "    for j in range(i+1):\n",
    "        print(\":3d\".format(a[i][j],end=\" \"))\n",
    "    print()"
   ]
  },
  {
   "cell_type": "code",
   "execution_count": 46,
   "id": "02f98009",
   "metadata": {},
   "outputs": [
    {
     "name": "stdout",
     "output_type": "stream",
     "text": [
      "the longest words are:\n",
      "                   Python\n",
      "                   MATLAB\n"
     ]
    }
   ],
   "source": [
    "def proc(strings):\n",
    "    m=0\n",
    "    lst=[]\n",
    "    for i in range(len(strings)):\n",
    "        if len(strings[i]) > m:\n",
    "            m = len(strings[i])\n",
    "    for i in range(len(strings)):\n",
    "        if len(strings[i]) == m:\n",
    "            lst.append(strings[i])\n",
    "    return lst\n",
    "\n",
    "strings = ['cad' ,'VB', 'Python', 'MATLAB', 'hello', 'world']\n",
    "result = proc(strings)\n",
    "print(\"the longest words are:\")\n",
    "for item in result:\n",
    "   print(\"{: >25}\".format(item))\n"
   ]
  },
  {
   "cell_type": "code",
   "execution_count": 59,
   "id": "523d59ea",
   "metadata": {},
   "outputs": [
    {
     "name": "stdout",
     "output_type": "stream",
     "text": [
      "请输入一个正整数：20\n",
      "01>\n",
      "02>>\n",
      "03>>>\n",
      "04>>>>\n",
      "05>>>>>\n",
      "06>>>>>>\n",
      "07>>>>>>>\n",
      "08>>>>>>>>\n",
      "09>>>>>>>>>\n",
      "10>>>>>>>>>>\n",
      "11>>>>>>>>>>>\n",
      "12>>>>>>>>>>>>\n",
      "13>>>>>>>>>>>>>\n",
      "14>>>>>>>>>>>>>>\n",
      "15>>>>>>>>>>>>>>>\n",
      "16>>>>>>>>>>>>>>>>\n",
      "17>>>>>>>>>>>>>>>>>\n",
      "18>>>>>>>>>>>>>>>>>>\n",
      "19>>>>>>>>>>>>>>>>>>>\n",
      "20>>>>>>>>>>>>>>>>>>>>\n"
     ]
    }
   ],
   "source": [
    "n = input(\"请输入一个正整数：\")\n",
    "for i in range(1,eval(n)+1):\n",
    "    print(\"{:0>2}{}\".format(i, '>'*i))"
   ]
  },
  {
   "cell_type": "code",
   "execution_count": 60,
   "id": "d6c00444",
   "metadata": {},
   "outputs": [
    {
     "name": "stdout",
     "output_type": "stream",
     "text": [
      "请输入一串数据：fds1f35s1f5s64a6s5d4f65s46f\n",
      "数字个数:14,字母个数:13\n"
     ]
    }
   ],
   "source": [
    "ns = input(\"请输入一串数据：\")\n",
    "dnum,dchr = 0,0\n",
    "for i in ns:\n",
    "    if i.isnumeric():\n",
    "        dnum += 1\n",
    "    elif i.isalpha():\n",
    "        dchr += 1\n",
    "    else:\n",
    "        pass\n",
    "print('数字个数:{},字母个数:{}'.format(dnum,dchr))"
   ]
  },
  {
   "cell_type": "code",
   "execution_count": 61,
   "id": "ada81903",
   "metadata": {},
   "outputs": [
    {
     "name": "stdout",
     "output_type": "stream",
     "text": [
      "亲爱的张三, 你的考试成绩是: 英语90, 数学87, Python语言95, 总成绩272.特此通知.\n",
      "亲爱的李四, 你的考试成绩是: 英语83, 数学80, Python语言87, 总成绩250.特此通知.\n",
      "亲爱的王五, 你的考试成绩是: 英语73, 数学57, Python语言55, 总成绩185.特此通知.\n"
     ]
    }
   ],
   "source": [
    "std = [['张三',90,87,95],['李四',83,80,87],['王五',73,57,55]]\n",
    "modl = \"亲爱的{}, 你的考试成绩是: 英语{}, 数学{}, Python语言{}, 总成绩{}.特此通知.\"\n",
    "\n",
    "for st in std:\n",
    "    cnt = 0\n",
    "    for i in range(1,4):\n",
    "        cnt += st[i]\n",
    "    print(modl.format(st[0],st[1],st[2],st[3],cnt))\n"
   ]
  },
  {
   "cell_type": "code",
   "execution_count": 62,
   "id": "d65f77bf",
   "metadata": {},
   "outputs": [
    {
     "name": "stdout",
     "output_type": "stream",
     "text": [
      "请输入正整数:123\n",
      "=====123======\n"
     ]
    }
   ],
   "source": [
    "n = eval(input(\"请输入正整数:\"))\n",
    "print(\"{:=^14}\".format(n))"
   ]
  },
  {
   "cell_type": "code",
   "execution_count": 69,
   "id": "aadee7f5",
   "metadata": {},
   "outputs": [
    {
     "name": "stdout",
     "output_type": "stream",
     "text": [
      "[1,2,3]\n",
      "[1, 3, 2, 6, 3, 9]\n"
     ]
    }
   ],
   "source": [
    "a = [3,6,9]\n",
    "b = eval(input())\n",
    "j = 1\n",
    "for i in range(len(a)):\n",
    "    b.insert(j, a[i])\n",
    "    j+=2\n",
    "print(b)"
   ]
  },
  {
   "cell_type": "code",
   "execution_count": 72,
   "id": "89b69127",
   "metadata": {},
   "outputs": [
    {
     "name": "stdout",
     "output_type": "stream",
     "text": [
      "1051\n"
     ]
    }
   ],
   "source": [
    "import random\n",
    "random.seed(100)\n",
    "s=0\n",
    "for i in range(3):\n",
    "    n = random.randint(1,9)\n",
    "    s += n**3\n",
    "print(s)"
   ]
  },
  {
   "cell_type": "code",
   "execution_count": 1,
   "id": "e8bd0320",
   "metadata": {},
   "outputs": [],
   "source": [
    "# 使用trutle库的turtle.fd()函数和turtle.seth(函数绘制)\n",
    "# 一个边长为100的三角形\n",
    "import turtle\n",
    "for i in range(3):\n",
    "    turtle.seth(i*120)\n",
    "    turtle.fd(100)\n",
    "turtle.done()"
   ]
  },
  {
   "cell_type": "code",
   "execution_count": 5,
   "id": "3af8a777",
   "metadata": {},
   "outputs": [
    {
     "name": "stdout",
     "output_type": "stream",
     "text": [
      "请输入类型序列:苹果  芒果  草莓  芒果  苹果  草莓  芒果  香蕉  芒果  草莓\n"
     ]
    }
   ],
   "source": [
    "fo = open(\"PY202.txt\", \"w\")\n",
    "txt = input(\"请输入类型序列:\")\n",
    "ls = txt.strip().split(\"  \")\n",
    "d = {}\n",
    "for i in range(len(ls)):\n",
    "    d[ls[i]] = d.get(ls[i], 0)+1\n",
    "ls = list(d.items())\n",
    "ls.sort(key=lambda x:x[1], reverse=True)  # 按照数量排序\n",
    "for k in ls:\n",
    "  fo.write(\"{}:{}\\n\".format(k[0], k[1]))\n",
    "fo.close()\n"
   ]
  },
  {
   "cell_type": "code",
   "execution_count": 11,
   "id": "89dcd8cf",
   "metadata": {},
   "outputs": [],
   "source": [
    "fi = open(\"论语.txt\", \"r\", encoding=\"utf-8\")\n",
    "fo = open(\"论语-原文.txt\", \"w\")\n",
    "\"\"\"\n",
    "flag = False\n",
    "for line in fi:\n",
    "   if \"【\" in line:\n",
    "       flag = False\n",
    "   if \"【原文】\" in line:\n",
    "       flag = True\n",
    "       continue\n",
    "   if flag == True:\n",
    "       fo.write(line.lstrip())\n",
    "\"\"\"\n",
    "fi = fi.readlines()\n",
    "for line in fi:\n",
    "    if '【原文】' in line:\n",
    "        flag = True\n",
    "    elif '【' in line:\n",
    "        continue\n",
    "    elif flag == True:    \n",
    "        fo.write(line.lstrip())\n",
    "fo.close()\n",
    "fi = open(\"论语-原文.txt\", \"r\")\n",
    "fo = open(\"论语-提纯原文.txt\", \"w\")\n",
    "for line in fi:\n",
    "    for i in range(23):\n",
    "        line=line.replace(\"({})\".format(i), \"\")\n",
    "    fo.write(line)\n",
    "fo.close()\n",
    "fi.close()\n",
    "\n"
   ]
  },
  {
   "cell_type": "code",
   "execution_count": 19,
   "id": "fd524b52",
   "metadata": {},
   "outputs": [],
   "source": [
    "import turtle\n",
    "turtle.circle(100,60)\n",
    "turtle.done()"
   ]
  },
  {
   "cell_type": "code",
   "execution_count": 24,
   "id": "2eb6ab16",
   "metadata": {},
   "outputs": [
    {
     "name": "stdout",
     "output_type": "stream",
     "text": [
      "15\n",
      "1.7688835526490898\n"
     ]
    }
   ],
   "source": [
    "import random\n",
    "print(random.randrange(1,100))\n",
    "print(random.uniform(1,2))"
   ]
  },
  {
   "cell_type": "code",
   "execution_count": 26,
   "id": "4cce0220",
   "metadata": {},
   "outputs": [
    {
     "name": "stdout",
     "output_type": "stream",
     "text": [
      "15\n",
      "\"\"\"\"\"\"\"\"\"\"\"\"\"\"f\"\"\"\"\"\"\"\"\"\"\"\"\"\"\"\n",
      "\"\"\"\"\"\"\"\"\"\"\"\"\"\"17\"\"\"\"\"\"\"\"\"\"\"\"\"\"\n",
      "\"\"\"\"\"\"\"\"\"\"\"\"\"1111\"\"\"\"\"\"\"\"\"\"\"\"\"\n"
     ]
    }
   ],
   "source": [
    "s = input()\n",
    "print(\"{:\\\"^30x}\".format(eval(s)))\n",
    "print(\"{:\\\"^30o}\".format(eval(s)))\n",
    "print(\"{:\\\"^30b}\".format(eval(s)))"
   ]
  },
  {
   "cell_type": "code",
   "execution_count": null,
   "id": "4cb395ed",
   "metadata": {},
   "outputs": [],
   "source": []
  }
 ],
 "metadata": {
  "kernelspec": {
   "display_name": "Python 3 (ipykernel)",
   "language": "python",
   "name": "python3"
  },
  "language_info": {
   "codemirror_mode": {
    "name": "ipython",
    "version": 3
   },
   "file_extension": ".py",
   "mimetype": "text/x-python",
   "name": "python",
   "nbconvert_exporter": "python",
   "pygments_lexer": "ipython3",
   "version": "3.9.7"
  }
 },
 "nbformat": 4,
 "nbformat_minor": 5
}
